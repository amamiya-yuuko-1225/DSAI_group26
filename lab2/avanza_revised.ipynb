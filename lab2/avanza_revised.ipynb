{
 "cells": [
  {
   "cell_type": "markdown",
   "id": "02987856-4da5-4633-bac6-9c0ddcee3576",
   "metadata": {},
   "source": [
    "IDSAI_2024_lecture3_DEMO1 -------------------------------- 01000110.01001010 ---- revised: Aug2024_F.Jalalypour"
   ]
  },
  {
   "cell_type": "markdown",
   "id": "11680266",
   "metadata": {},
   "source": [
    "Here, we will start scraping the Avanza webpage by reading the content of the file and then parsing it with Beuatiful Soup."
   ]
  },
  {
   "cell_type": "code",
   "execution_count": null,
   "id": "34260eaa",
   "metadata": {},
   "outputs": [],
   "source": [
    "#Importing BeautifulSoup\n",
    "from bs4 import BeautifulSoup      #This line imports the BeautifulSoup class from the bs4 module.  \n",
    "\n",
    "#Reading the HTML File\n",
    "with open('avanza.html','r') as f: #This lines open the file named avanza.html in read mode ('r'). \n",
    "    html = f.read()\n",
    "    \n",
    "#Parsing the HTML    \n",
    "soup = BeautifulSoup(html, 'html.parser') #This line creates a BeautifulSoup object named soup by parsing the HTML content stored in the html variable"
   ]
  },
  {
   "cell_type": "code",
   "execution_count": null,
   "id": "156bab5c",
   "metadata": {},
   "outputs": [],
   "source": [
    "soup"
   ]
  },
  {
   "cell_type": "markdown",
   "id": "beeeeb61",
   "metadata": {},
   "source": [
    "Let’s break down the process of extracting and processing data from an HTML webpage, using the provided example of extracting stock names and numerical data. Comparing the visible content of the Avanza webpage, let us search for, for example, AstraZeneca, in the source. We will find that the names are contained in HTML content with elements that looks like this:\n",
    "\n",
    "```\n",
    "    <td class=\"orderbookName\">\n",
    "        <a class=\"ellipsis\" href=\"/aktier/om-aktien.html/5431/astrazeneca\">\n",
    "            <span class=\"flag small SE\"></span>AstraZeneca\n",
    "        </a>\n",
    "    </td>\n",
    "\n",
    "```\n",
    "Unfortunately, stock names and numerical data are in separate tables, so we need to handle them separately; first collecting the names and then the numerical data.\n",
    "\n",
    "We will collect all `td` elements that have the class `orderbookName`. The name of the stock is as a textual content of the element. In this case, we can access it simply by the `.text` member. In a more complicated case, we might have to issue, e.g., `cell.find_all(text=True)`.\n",
    "\n",
    "The text contains a lot of whitespace around it, so it makes sense to `strip` that whitespace away."
   ]
  },
  {
   "cell_type": "code",
   "execution_count": null,
   "id": "0efdc4f7",
   "metadata": {},
   "outputs": [],
   "source": [
    "# Initialize an Empty List\n",
    "names = list()    #This line creates an empty list named \"names\"\n",
    "\n",
    "#Find All Matching Elements #find_all method returns a list of all matching elements\n",
    "for cell in soup.find_all('td',class_='orderbookName'): #This line searches through the parsed HTML document (soup) for all <td> elements that have the class orderbookName.\n",
    "    names.append(cell.text.strip()) #Extract and Clean Text #text: textual content; strip: whitespace away\n",
    "names"
   ]
  },
  {
   "cell_type": "code",
   "execution_count": null,
   "id": "80f8d13f",
   "metadata": {},
   "outputs": [],
   "source": [
    "len(names) #Length of names"
   ]
  },
  {
   "cell_type": "markdown",
   "id": "48556ff0",
   "metadata": {},
   "source": [
    "In a snapshot, AstraZeneca would have the following numbers:\n",
    "\n",
    "|Senast |+/-%|1 år %|Börsvärde MSEK|P/E-tal|Direktavk. %|Ägare |Lista\n",
    "|-------|----|------|--------------|-------|------------|------|-----\n",
    "|1423,00|0   |-3,98 |2 202 059     |34,05  |2,13        |62 653|Large Cap Stockholm\n",
    "\n",
    "Here *Senast* is the latest quote of the share value, +/-% daily change in value, *1 år %* percentual change over the year, *Börsvärde MSEK* market value of the company in millions of kronor, *P/E-tal* the P/E value of the company, *Direktavkastning* is the dividend yield, *Ägare* the numer of owners, and *List* which list the stock is listed under in Stockholm stock exchange.\n",
    "\n",
    "We can find these in the following element (A substantial amount of whitespace has been removed):\n",
    "    \n",
    "```\n",
    "<tr class=\"row rowId11\" id=\"11\">\n",
    "    <td class=\"\">\n",
    "        <span class=\"pushBox\" data-aza-push=\"vm.pushData.latest['5431'].lastPrice\" data-aza-push-fractions=\"2\">1423,00</span>\n",
    "    </td>\n",
    "    <td class=\"neutral\">\n",
    "        <span data-ng-class=\"{'neutral': vm.commonService.isNeutral(vm.pushData.latest['5431'].changePercent), 'negative': vm.commonService.isNegative(vm.pushData.latest['5431'].changePercent), 'positive': vm.commonService.isPositive(vm.pushData.latest['5431'].changePercent)}\" data-aza-push=\"vm.pushData.latest['5431'].changePercent\" data-aza-push-fractions=\"2\" class=\"neutral\" style=\"\">0</span>\n",
    "    </td>\n",
    "    <td class=\"negative\">\n",
    "        <span>-3,98</span>\n",
    "    </td>\n",
    "    <td class=\"\">\n",
    "        <span>2&nbsp;202&nbsp;059</span>\n",
    "    </td>\n",
    "    <td class=\"\">\n",
    "        <span>34,05</span>\n",
    "    </td>\n",
    "    <td class=\"\">\n",
    "        <span>2,13</span>\n",
    "    </td>\n",
    "    <td class=\"\">\n",
    "        <span>62&nbsp;653</span>\n",
    "    </td>\n",
    "    <td class=\"\">\n",
    "        <span>Large Cap Stockholm</span>\n",
    "    </td>\n",
    "</tr>\n",
    "\n",
    "```"
   ]
  },
  {
   "cell_type": "markdown",
   "id": "bd923ae5-68fb-4763-b2a6-42c79555ac97",
   "metadata": {},
   "source": [
    "**Side Note:**\n",
    "\n",
    "`<tr>` (Table Row) : This tag represents a single row in a table.\n",
    "    \n",
    "`<td>` (Table Data): This tag represents a single cell (or column) in a row.\n",
    "\n",
    "```\n",
    "<tr class=\"row\">\n",
    "  <td>Row 1 Column 1</td>\n",
    "  <td>Row 1 Column 2</td>\n",
    "</tr>\n",
    "```"
   ]
  },
  {
   "cell_type": "markdown",
   "id": "1aa24847-621e-4c7e-9f37-fd2f4ea98455",
   "metadata": {
    "scrolled": true
   },
   "source": [
    "So we will need to find `tr` elements that have class `row`. "
   ]
  },
  {
   "cell_type": "code",
   "execution_count": null,
   "id": "f4376e47",
   "metadata": {},
   "outputs": [],
   "source": [
    "soup.find('tr',class_='row')"
   ]
  },
  {
   "cell_type": "markdown",
   "id": "01824d2a",
   "metadata": {},
   "source": [
    "As you see, it shows us unnecessary characters such as the name of a stock and a link to more details about the stock as well as list of buttons for buying or selling with a link to place an order.\n",
    "\n",
    "A generic search approach might end up finding more elements than desired when other elements might have similar structures. To accurately find a specific piece of information in an HTML document, we may locate a particular element that contains a known value. For instance, a row that contains the name \"AstraZeneca\" or its share value.\n",
    "\n",
    "Once you have identified the specific element containing the value, you can then locate its `parent table` (all `tr` elements belong to a `table`), and with the entire table structure more accurately.\n",
    "\n",
    "we can match it with `Regular Expressions`. This involves finding specific elements within a webpage's HTML structure, and sometimes dealing with complex or inconsistent formatting. Use `regex` to clean up or match the text content accurately and filter out unwanted characters and focus on the actual data you need."
   ]
  },
  {
   "cell_type": "code",
   "execution_count": null,
   "id": "f88d255e",
   "metadata": {},
   "outputs": [],
   "source": [
    "#find a specific string within an HTML document \n",
    "import re    #Imports the re module, Python's library for working with regular expressions.\n",
    "\n",
    "# Define the pattern to find a specific string\n",
    "pattern = r'.*1423,00.*' #matches any string containing 1423,00 with any characters before or after it.\n",
    "element = soup.find(string=re.compile(pattern)) #Searches for text(string) in the HTML that matches the regular expression pattern provided"
   ]
  },
  {
   "cell_type": "markdown",
   "id": "6c99f2ef",
   "metadata": {},
   "source": [
    "Now we can navigate up the HTML tree from a specific element and retrieve its parent elements:"
   ]
  },
  {
   "cell_type": "code",
   "execution_count": null,
   "id": "3c63da7b",
   "metadata": {},
   "outputs": [],
   "source": [
    "table = element.parent.parent.parent.parent.parent  #to navigate up five levels from the element \n",
    "table.name                                          # and then check the name of the tag at that level."
   ]
  },
  {
   "cell_type": "markdown",
   "id": "644a8606",
   "metadata": {},
   "source": [
    "Yay, so this is the table that we are looking for. So now let's look for the children underneath :)"
   ]
  },
  {
   "cell_type": "code",
   "execution_count": null,
   "id": "28509633",
   "metadata": {},
   "outputs": [],
   "source": [
    "table.find('tr',class_='row')"
   ]
  },
  {
   "cell_type": "markdown",
   "id": "099c42c6",
   "metadata": {},
   "source": [
    "This is the data we want. So let's start extracting `td` element by element."
   ]
  },
  {
   "cell_type": "code",
   "execution_count": null,
   "id": "5ae8adc6",
   "metadata": {},
   "outputs": [],
   "source": [
    "for cell in table.find('tr',class_='row').select('td'):\n",
    "    print(cell.text.strip())"
   ]
  },
  {
   "cell_type": "markdown",
   "id": "3d8ccefc",
   "metadata": {},
   "source": [
    "We will need to do this for all such rows, so we will use `find_all` and then construct the values."
   ]
  },
  {
   "cell_type": "code",
   "execution_count": null,
   "id": "e0b110de",
   "metadata": {},
   "outputs": [],
   "source": [
    "values = list()\n",
    "for row in table.find_all('tr',class_='row'):\n",
    "    values.append([cell.text.strip() for cell in row.select('td')])\n",
    "values"
   ]
  },
  {
   "cell_type": "code",
   "execution_count": null,
   "id": "efe2699e",
   "metadata": {},
   "outputs": [],
   "source": [
    "len(values)"
   ]
  },
  {
   "cell_type": "markdown",
   "id": "c93104d4",
   "metadata": {},
   "source": [
    "**Data Processing and Formatting in Lists**\n",
    "\n",
    "An important detail to note is the presence of unusual \\xa0 characters in some of the values. These characters are actually non-breaking spaces. In HTML, for instance, the string '58\\xa0817' would be displayed as 58&nbsp;817. The &nbsp; entity represents a non-breaking space, which looks like a regular space but behaves differently. It prevents line breaks at that position, making sure that the text remains on the same line. This is often used to separate groups of digits or to attach units to numbers without allowing the browser to break the line at that point.\n",
    "\n",
    "In addition to these non-breaking spaces, you might also encounter commas used as digit separators. Both of these factors can cause issues during data processing. So, it's important to address and handle these characters appropriately.\n",
    "\n",
    "After processing, each row in values looks like a combination of floats, integers, and strings, formatted consistently and ready for further analysis or visualization."
   ]
  },
  {
   "cell_type": "code",
   "execution_count": null,
   "id": "69008896",
   "metadata": {},
   "outputs": [],
   "source": [
    "#Handling Special Characters and Comma Replacements\n",
    "values = [list(map(lambda s: s.replace('\\xa0','').replace(',','.'),row)) for row in values]\n",
    "\n",
    "#Converting String Values to Floats and Integers\n",
    "values = [list(map(float,row[:3])) + [int(row[3])] + \\\n",
    "          list(map(float,row[4:6])) + [int(row[6])] + [row[7]] for row in values]\n",
    "values"
   ]
  },
  {
   "cell_type": "markdown",
   "id": "5a422e21",
   "metadata": {},
   "source": [
    "Now we can construct a dataframe."
   ]
  },
  {
   "cell_type": "code",
   "execution_count": null,
   "id": "9e5c6038",
   "metadata": {},
   "outputs": [],
   "source": [
    "import pandas as pd\n",
    "data = list()\n",
    "for (name,val) in zip(names,values):\n",
    "    row = { 'Name' : name,\n",
    "            'Latest' : val[0],\n",
    "            'Change %' : val[1],\n",
    "            '1 year %' : val[2],\n",
    "            'Market value MSEK' : val[3],\n",
    "            'P/E' : val[4],\n",
    "            'Dividend yield %' : val[5],\n",
    "            'Owners' : val[6],\n",
    "            'List' : val[7]\n",
    "          }\n",
    "    data.append(row)\n",
    "data = pd.DataFrame(data)\n",
    "data"
   ]
  },
  {
   "cell_type": "code",
   "execution_count": null,
   "id": "9ceca20f-14ad-4bf1-b3d4-063c198de056",
   "metadata": {},
   "outputs": [],
   "source": [
    "# Display the  AstraZeneca row (indexing starts from 0)\n",
    "data.iloc[11]"
   ]
  },
  {
   "cell_type": "code",
   "execution_count": null,
   "id": "0f865be3-273f-45d9-adc8-139f2a3a0bf9",
   "metadata": {},
   "outputs": [],
   "source": [
    "# Display the First row  (indexing starts from 0)\n",
    "data.iloc[0]"
   ]
  },
  {
   "cell_type": "markdown",
   "id": "e30e73d3",
   "metadata": {},
   "source": [
    "**Saving Processed Data to CSV**\n",
    "To export data you can use the to_csv method from pandas. "
   ]
  },
  {
   "cell_type": "code",
   "execution_count": null,
   "id": "cfd4f039",
   "metadata": {},
   "outputs": [],
   "source": [
    "data.to_csv('avanza.csv',index=None) #save the DataFrame data to a CSV file named avanza.csv without including the row indices."
   ]
  },
  {
   "cell_type": "markdown",
   "id": "0ec74b71-4805-40b9-89a4-bd62118dd5a9",
   "metadata": {},
   "source": [
    "Thank you for your attention :) "
   ]
  }
 ],
 "metadata": {
  "kernelspec": {
   "display_name": "Python 3 (ipykernel)",
   "language": "python",
   "name": "python3"
  },
  "language_info": {
   "codemirror_mode": {
    "name": "ipython",
    "version": 3
   },
   "file_extension": ".py",
   "mimetype": "text/x-python",
   "name": "python",
   "nbconvert_exporter": "python",
   "pygments_lexer": "ipython3",
   "version": "3.12.7"
  }
 },
 "nbformat": 4,
 "nbformat_minor": 5
}
