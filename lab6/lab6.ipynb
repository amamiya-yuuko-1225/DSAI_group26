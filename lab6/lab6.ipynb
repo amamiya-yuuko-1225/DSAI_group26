{
 "cells": [
  {
   "cell_type": "markdown",
   "metadata": {},
   "source": [
    "# DAT565/DIT407 Assignment 6\n",
    "\n",
    "Author: Group 26 | Wenjun Tian wenjunt@chalmers.se | Yifan Tang yifant@chalmers.se\n",
    "\n",
    "Date: 2024-12-14"
   ]
  },
  {
   "cell_type": "markdown",
   "metadata": {},
   "source": [
    "# Problem 1: The dataset\n",
    "We load both training and test set using the `torchvision.datasets`\n",
    "module, and then use the `transform` option to convert the images from `PIL` into `tensors` (and normalize the grey values to $[0,1]$)\n",
    "\n",
    "The images from both sets and the verification of their dimensions and grey value normaliztion are shown below."
   ]
  },
  {
   "cell_type": "code",
   "execution_count": 19,
   "metadata": {},
   "outputs": [
    {
     "name": "stdout",
     "output_type": "stream",
     "text": [
      "Verifiy image dimensions and value normalization:\n",
      "Image size: 28 x 28\n",
      "Min pixel grey value: 0.0\n",
      "Max pixel grey value: 1.0\n",
      "\n",
      "\n",
      "Here are 4 imags from the trainning set (line 1) and 4 images from the test set (line2)\n"
     ]
    },
    {
     "data": {
      "image/png": "[encoded data removed]",
      "text/plain": [
       "<Figure size 1000x250 with 4 Axes>"
      ]
     },
     "metadata": {},
     "output_type": "display_data"
    },
    {
     "data": {
      "image/png": "[encoded data removed]",
      "text/plain": [
       "<Figure size 1000x250 with 4 Axes>"
      ]
     },
     "metadata": {},
     "output_type": "display_data"
    }
   ],
   "source": [
    "import torch\n",
    "from torch import nn\n",
    "from torch.utils.data import DataLoader\n",
    "from torchvision import datasets\n",
    "import torch.optim as optim\n",
    "from torchvision.transforms import ToTensor\n",
    "from torchvision import transforms\n",
    "import matplotlib.pyplot as plt\n",
    "\n",
    "# Download training data from open datasets.\n",
    "training_data = datasets.MNIST(\n",
    "    root=\"data\",\n",
    "    train=True,\n",
    "    download=True,\n",
    "    #convert PIL image to Tensors; normalize grey values to [0,1]\n",
    "    transform=ToTensor(),\n",
    ")\n",
    "\n",
    "# Download test data from open datasets.\n",
    "test_data = datasets.MNIST(\n",
    "    root=\"data\",\n",
    "    train=False,\n",
    "    download=True,\n",
    "    transform=ToTensor(),\n",
    ")\n",
    "\n",
    "batch_size = 64\n",
    "\n",
    "# Create data loaders.\n",
    "train_dataloader = DataLoader(training_data, batch_size=batch_size)\n",
    "test_dataloader = DataLoader(test_data, batch_size=batch_size)\n",
    "\n",
    "# Get data iterators from loaders\n",
    "train_dataiter = iter(train_dataloader)\n",
    "train_images, train_labels = next(train_dataiter)\n",
    "test_dataiter = iter(test_dataloader)\n",
    "test_images, test_labels = next(test_dataiter)\n",
    "\n",
    "print(\"Verifiy image dimensions and value normalization:\")\n",
    "# Verify image dimensions\n",
    "print(f\"Image size: {train_images.shape[2]} x {train_images.shape[3]}\")\n",
    "# Verify grey values normaliztion\n",
    "print(f\"Min pixel grey value: {train_images.min()}\")\n",
    "print(f\"Max pixel grey value: {train_images.max()}\")\n",
    "print(\"\\n\")\n",
    "\n",
    "# Use matplotlib to plot 4 images from each set in greyscale\n",
    "\n",
    "print(\"Here are 4 imags from the trainning set (line 1) and 4 images from the test set (line2)\")\n",
    "\n",
    "fig, axes = plt.subplots(1, 4, figsize=(10, 2.5))\n",
    "for i in range(4):\n",
    "    image = train_images[i].numpy().squeeze()\n",
    "    axes[i].imshow(image, cmap='gray')\n",
    "    axes[i].set_title(f'Label: {train_labels[i].item()}')\n",
    "    axes[i].axis('off')\n",
    "\n",
    "fig, axes = plt.subplots(1, 4, figsize=(10, 2.5))\n",
    "for i in range(4):\n",
    "    image = test_images[i].numpy().squeeze()\n",
    "    axes[i].imshow(image, cmap='gray')\n",
    "    axes[i].set_title(f'Label: {test_labels[i].item()}')\n",
    "    axes[i].axis('off')\n",
    "\n",
    "plt.show()"
   ]
  },
  {
   "cell_type": "markdown",
   "metadata": {},
   "source": [
    "# Problem 2: Single hidden layer\n",
    "\n",
    "## 2.1 Relevant Parameters:\n",
    "1. Network Architecture: One hidden layer with 128 neurons (suggestion from Google).\n",
    "2. Activation Function: ReLU.\n",
    "3. Loss Function: Cross Entropy Loss.\n",
    "4. Optimizer: Stochastic Gradient Descent (SGD) with a learning rate of 0.01.\n",
    "5. Batch Size: 64 (defined in the previous code cell).\n",
    "6. Number of Epochs: 10.\n",
    "\n",
    "## 2.2 Validation accuracy of the network\n",
    "\n",
    "Results are shown below the code."
   ]
  },
  {
   "cell_type": "code",
   "execution_count": 20,
   "metadata": {},
   "outputs": [
    {
     "name": "stdout",
     "output_type": "stream",
     "text": [
      "Validation accuracy of the network (with respect to the test set) after each epoch:\n",
      "Epoch [1/10], Validation Accuracy: 86.12%\n",
      "Epoch [2/10], Validation Accuracy: 89.25%\n",
      "Epoch [3/10], Validation Accuracy: 90.30%\n",
      "Epoch [4/10], Validation Accuracy: 90.97%\n",
      "Epoch [5/10], Validation Accuracy: 91.57%\n",
      "Epoch [6/10], Validation Accuracy: 92.03%\n",
      "Epoch [7/10], Validation Accuracy: 92.25%\n",
      "Epoch [8/10], Validation Accuracy: 92.61%\n",
      "Epoch [9/10], Validation Accuracy: 92.92%\n",
      "Epoch [10/10], Validation Accuracy: 93.14%\n"
     ]
    }
   ],
   "source": [
    "class FeedforwardNN(nn.Module):\n",
    "    def __init__(self):\n",
    "        super(FeedforwardNN, self).__init__()\n",
    "        self.fc1 = nn.Linear(28*28, 128)  # Input layer to hidden layer\n",
    "        self.relu = nn.ReLU()             # ReLU activation function\n",
    "        self.fc2 = nn.Linear(128, 10)     # Hidden layer to output layer\n",
    "\n",
    "    def forward(self, x):\n",
    "        x = x.view(-1, 28*28)  # Flatten the input from a 28x28 matrix to a (28^2)x1 vector\n",
    "        x = self.fc1(x)\n",
    "        x = self.relu(x)\n",
    "        x = self.fc2(x)\n",
    "        return x\n",
    "\n",
    "model = FeedforwardNN()\n",
    "criterion = nn.CrossEntropyLoss()\n",
    "optimizer = optim.SGD(model.parameters(), lr=0.01)\n",
    "num_epochs = 10\n",
    "\n",
    "def train_and_validate(model, criterion, optimizer, num_epochs):\n",
    "    print(\"Validation accuracy of the network (with respect to the test set) after each epoch:\")\n",
    "    for epoch in range(num_epochs):\n",
    "        # Train\n",
    "        model.train()\n",
    "        for images, labels in train_dataloader:\n",
    "            # Set previous grads to 0 before the new round of back propagation\n",
    "            optimizer.zero_grad()\n",
    "            # Get outputs\n",
    "            outputs = model(images)\n",
    "            # Preform back propagation, record grads\n",
    "            loss = criterion(outputs, labels)\n",
    "            loss.backward()\n",
    "            # Update weights/biases using the computed grads\n",
    "            optimizer.step()\n",
    "\n",
    "        # Validation\n",
    "        model.eval()\n",
    "        correct = 0\n",
    "        total = 0\n",
    "        with torch.no_grad():\n",
    "            for images, labels in test_dataloader:\n",
    "                outputs = model(images)\n",
    "                _, predicted = torch.max(outputs.data, 1)\n",
    "                total += labels.size(0)\n",
    "                correct += (predicted == labels).sum().item()\n",
    "\n",
    "        accuracy = 100 * correct / total\n",
    "        print(f'Epoch [{epoch+1}/{num_epochs}], Validation Accuracy: {accuracy:.2f}%')\n",
    "\n",
    "train_and_validate(model=model, criterion=criterion, optimizer=optimizer, num_epochs=num_epochs)"
   ]
  },
  {
   "cell_type": "markdown",
   "metadata": {},
   "source": [
    "# Problem 3: Two hidden layers\n",
    "\n",
    "The code and results are shown below."
   ]
  },
  {
   "cell_type": "code",
   "execution_count": null,
   "metadata": {},
   "outputs": [
    {
     "name": "stdout",
     "output_type": "stream",
     "text": [
      "Validation accuracy of the network (with respect to the test set) after each epoch:\n",
      "Epoch [1/60], Validation Accuracy: 81.94%\n",
      "Epoch [2/60], Validation Accuracy: 88.48%\n",
      "Epoch [3/60], Validation Accuracy: 90.08%\n",
      "Epoch [4/60], Validation Accuracy: 91.23%\n",
      "Epoch [5/60], Validation Accuracy: 91.92%\n",
      "Epoch [6/60], Validation Accuracy: 92.54%\n",
      "Epoch [7/60], Validation Accuracy: 93.15%\n",
      "Epoch [8/60], Validation Accuracy: 93.48%\n",
      "Epoch [9/60], Validation Accuracy: 93.86%\n",
      "Epoch [10/60], Validation Accuracy: 94.08%\n",
      "Epoch [11/60], Validation Accuracy: 94.30%\n",
      "Epoch [12/60], Validation Accuracy: 94.63%\n",
      "Epoch [13/60], Validation Accuracy: 94.91%\n",
      "Epoch [14/60], Validation Accuracy: 95.12%\n",
      "Epoch [15/60], Validation Accuracy: 95.39%\n",
      "Epoch [16/60], Validation Accuracy: 95.50%\n",
      "Epoch [17/60], Validation Accuracy: 95.62%\n",
      "Epoch [18/60], Validation Accuracy: 95.83%\n",
      "Epoch [19/60], Validation Accuracy: 96.02%\n",
      "Epoch [20/60], Validation Accuracy: 96.19%\n",
      "Epoch [21/60], Validation Accuracy: 96.27%\n",
      "Epoch [22/60], Validation Accuracy: 96.39%\n",
      "Epoch [23/60], Validation Accuracy: 96.48%\n",
      "Epoch [24/60], Validation Accuracy: 96.59%\n",
      "Epoch [25/60], Validation Accuracy: 96.69%\n",
      "Epoch [26/60], Validation Accuracy: 96.79%\n",
      "Epoch [27/60], Validation Accuracy: 96.82%\n",
      "Epoch [28/60], Validation Accuracy: 96.91%\n",
      "Epoch [29/60], Validation Accuracy: 97.01%\n",
      "Epoch [30/60], Validation Accuracy: 97.02%\n",
      "Epoch [31/60], Validation Accuracy: 97.05%\n",
      "Epoch [32/60], Validation Accuracy: 97.14%\n",
      "Epoch [33/60], Validation Accuracy: 97.21%\n",
      "Epoch [34/60], Validation Accuracy: 97.24%\n",
      "Epoch [35/60], Validation Accuracy: 97.31%\n",
      "Epoch [36/60], Validation Accuracy: 97.36%\n",
      "Epoch [37/60], Validation Accuracy: 97.42%\n",
      "Epoch [38/60], Validation Accuracy: 97.49%\n",
      "Epoch [39/60], Validation Accuracy: 97.53%\n",
      "Epoch [40/60], Validation Accuracy: 97.56%\n",
      "Epoch [41/60], Validation Accuracy: 97.60%\n",
      "Epoch [42/60], Validation Accuracy: 97.64%\n",
      "Epoch [43/60], Validation Accuracy: 97.66%\n",
      "Epoch [44/60], Validation Accuracy: 97.69%\n",
      "Epoch [45/60], Validation Accuracy: 97.76%\n",
      "Epoch [46/60], Validation Accuracy: 97.76%\n",
      "Epoch [47/60], Validation Accuracy: 97.76%\n",
      "Epoch [48/60], Validation Accuracy: 97.79%\n",
      "Epoch [49/60], Validation Accuracy: 97.81%\n",
      "Epoch [50/60], Validation Accuracy: 97.81%\n",
      "Epoch [51/60], Validation Accuracy: 97.83%\n",
      "Epoch [52/60], Validation Accuracy: 97.86%\n",
      "Epoch [53/60], Validation Accuracy: 97.86%\n",
      "Epoch [54/60], Validation Accuracy: 97.86%\n",
      "Epoch [55/60], Validation Accuracy: 97.88%\n",
      "Epoch [56/60], Validation Accuracy: 97.90%\n",
      "Epoch [57/60], Validation Accuracy: 97.90%\n",
      "Epoch [58/60], Validation Accuracy: 97.90%\n",
      "Epoch [59/60], Validation Accuracy: 97.91%\n",
      "Epoch [60/60], Validation Accuracy: 97.92%\n"
     ]
    }
   ],
   "source": [
    "# Define the neural network\n",
    "class FeedforwardNN(nn.Module):\n",
    "    def __init__(self):\n",
    "        super(FeedforwardNN, self).__init__()\n",
    "        self.fc1 = nn.Linear(28 * 28, 500) \n",
    "        self.fc2 = nn.Linear(500, 300)\n",
    "        self.fc3 = nn.Linear(300, 10)  \n",
    "\n",
    "    def forward(self, x):\n",
    "        x = x.view(-1, 28*28)\n",
    "        x = torch.relu(self.fc1(x))\n",
    "        x = torch.relu(self.fc2(x))\n",
    "        x = self.fc3(x)\n",
    "        return x\n",
    "\n",
    "# Create the model, loss function, and optimizer\n",
    "model = FeedforwardNN()\n",
    "criterion = nn.CrossEntropyLoss()\n",
    "optimizer = optim.SGD(model.parameters(), lr=0.01, weight_decay=2e-4)\n",
    "num_epochs = 60\n",
    "\n",
    "train_and_validate(model=model, criterion=criterion, optimizer=optimizer, num_epochs=num_epochs)"
   ]
  },
  {
   "cell_type": "markdown",
   "metadata": {},
   "source": [
    "# Problem 4: Convolutional neural network\n"
   ]
  },
  {
   "cell_type": "code",
   "execution_count": 23,
   "metadata": {},
   "outputs": [
    {
     "name": "stdout",
     "output_type": "stream",
     "text": [
      "Validation accuracy of the network (with respect to the test set) after each epoch:\n"
     ]
    },
    {
     "ename": "KeyboardInterrupt",
     "evalue": "",
     "output_type": "error",
     "traceback": [
      "\u001b[0;31m---------------------------------------------------------------------------\u001b[0m",
      "\u001b[0;31mKeyboardInterrupt\u001b[0m                         Traceback (most recent call last)",
      "Cell \u001b[0;32mIn[23], line 24\u001b[0m\n\u001b[1;32m     21\u001b[0m optimizer \u001b[38;5;241m=\u001b[39m optim\u001b[38;5;241m.\u001b[39mSGD(model\u001b[38;5;241m.\u001b[39mparameters(), lr\u001b[38;5;241m=\u001b[39m\u001b[38;5;241m0.01\u001b[39m, weight_decay\u001b[38;5;241m=\u001b[39m\u001b[38;5;241m2e-4\u001b[39m) \n\u001b[1;32m     22\u001b[0m num_epochs \u001b[38;5;241m=\u001b[39m \u001b[38;5;241m60\u001b[39m\n\u001b[0;32m---> 24\u001b[0m \u001b[43mtrain_and_validate\u001b[49m\u001b[43m(\u001b[49m\u001b[43mmodel\u001b[49m\u001b[38;5;241;43m=\u001b[39;49m\u001b[43mmodel\u001b[49m\u001b[43m,\u001b[49m\u001b[43m \u001b[49m\u001b[43mcriterion\u001b[49m\u001b[38;5;241;43m=\u001b[39;49m\u001b[43mcriterion\u001b[49m\u001b[43m,\u001b[49m\u001b[43m \u001b[49m\u001b[43moptimizer\u001b[49m\u001b[38;5;241;43m=\u001b[39;49m\u001b[43moptimizer\u001b[49m\u001b[43m,\u001b[49m\u001b[43m \u001b[49m\u001b[43mnum_epochs\u001b[49m\u001b[38;5;241;43m=\u001b[39;49m\u001b[43mnum_epochs\u001b[49m\u001b[43m)\u001b[49m\n",
      "Cell \u001b[0;32mIn[20], line 42\u001b[0m, in \u001b[0;36mtrain_and_validate\u001b[0;34m(model, criterion, optimizer, num_epochs)\u001b[0m\n\u001b[1;32m     40\u001b[0m \u001b[38;5;28;01mwith\u001b[39;00m torch\u001b[38;5;241m.\u001b[39mno_grad():\n\u001b[1;32m     41\u001b[0m     \u001b[38;5;28;01mfor\u001b[39;00m images, labels \u001b[38;5;129;01min\u001b[39;00m test_dataloader:\n\u001b[0;32m---> 42\u001b[0m         outputs \u001b[38;5;241m=\u001b[39m \u001b[43mmodel\u001b[49m\u001b[43m(\u001b[49m\u001b[43mimages\u001b[49m\u001b[43m)\u001b[49m\n\u001b[1;32m     43\u001b[0m         _, predicted \u001b[38;5;241m=\u001b[39m torch\u001b[38;5;241m.\u001b[39mmax(outputs\u001b[38;5;241m.\u001b[39mdata, \u001b[38;5;241m1\u001b[39m)\n\u001b[1;32m     44\u001b[0m         total \u001b[38;5;241m+\u001b[39m\u001b[38;5;241m=\u001b[39m labels\u001b[38;5;241m.\u001b[39msize(\u001b[38;5;241m0\u001b[39m)\n",
      "File \u001b[0;32m~/anaconda3/envs/lab1/lib/python3.12/site-packages/torch/nn/modules/module.py:1736\u001b[0m, in \u001b[0;36mModule._wrapped_call_impl\u001b[0;34m(self, *args, **kwargs)\u001b[0m\n\u001b[1;32m   1734\u001b[0m     \u001b[38;5;28;01mreturn\u001b[39;00m \u001b[38;5;28mself\u001b[39m\u001b[38;5;241m.\u001b[39m_compiled_call_impl(\u001b[38;5;241m*\u001b[39margs, \u001b[38;5;241m*\u001b[39m\u001b[38;5;241m*\u001b[39mkwargs)  \u001b[38;5;66;03m# type: ignore[misc]\u001b[39;00m\n\u001b[1;32m   1735\u001b[0m \u001b[38;5;28;01melse\u001b[39;00m:\n\u001b[0;32m-> 1736\u001b[0m     \u001b[38;5;28;01mreturn\u001b[39;00m \u001b[38;5;28;43mself\u001b[39;49m\u001b[38;5;241;43m.\u001b[39;49m\u001b[43m_call_impl\u001b[49m\u001b[43m(\u001b[49m\u001b[38;5;241;43m*\u001b[39;49m\u001b[43margs\u001b[49m\u001b[43m,\u001b[49m\u001b[43m \u001b[49m\u001b[38;5;241;43m*\u001b[39;49m\u001b[38;5;241;43m*\u001b[39;49m\u001b[43mkwargs\u001b[49m\u001b[43m)\u001b[49m\n",
      "File \u001b[0;32m~/anaconda3/envs/lab1/lib/python3.12/site-packages/torch/nn/modules/module.py:1747\u001b[0m, in \u001b[0;36mModule._call_impl\u001b[0;34m(self, *args, **kwargs)\u001b[0m\n\u001b[1;32m   1742\u001b[0m \u001b[38;5;66;03m# If we don't have any hooks, we want to skip the rest of the logic in\u001b[39;00m\n\u001b[1;32m   1743\u001b[0m \u001b[38;5;66;03m# this function, and just call forward.\u001b[39;00m\n\u001b[1;32m   1744\u001b[0m \u001b[38;5;28;01mif\u001b[39;00m \u001b[38;5;129;01mnot\u001b[39;00m (\u001b[38;5;28mself\u001b[39m\u001b[38;5;241m.\u001b[39m_backward_hooks \u001b[38;5;129;01mor\u001b[39;00m \u001b[38;5;28mself\u001b[39m\u001b[38;5;241m.\u001b[39m_backward_pre_hooks \u001b[38;5;129;01mor\u001b[39;00m \u001b[38;5;28mself\u001b[39m\u001b[38;5;241m.\u001b[39m_forward_hooks \u001b[38;5;129;01mor\u001b[39;00m \u001b[38;5;28mself\u001b[39m\u001b[38;5;241m.\u001b[39m_forward_pre_hooks\n\u001b[1;32m   1745\u001b[0m         \u001b[38;5;129;01mor\u001b[39;00m _global_backward_pre_hooks \u001b[38;5;129;01mor\u001b[39;00m _global_backward_hooks\n\u001b[1;32m   1746\u001b[0m         \u001b[38;5;129;01mor\u001b[39;00m _global_forward_hooks \u001b[38;5;129;01mor\u001b[39;00m _global_forward_pre_hooks):\n\u001b[0;32m-> 1747\u001b[0m     \u001b[38;5;28;01mreturn\u001b[39;00m \u001b[43mforward_call\u001b[49m\u001b[43m(\u001b[49m\u001b[38;5;241;43m*\u001b[39;49m\u001b[43margs\u001b[49m\u001b[43m,\u001b[49m\u001b[43m \u001b[49m\u001b[38;5;241;43m*\u001b[39;49m\u001b[38;5;241;43m*\u001b[39;49m\u001b[43mkwargs\u001b[49m\u001b[43m)\u001b[49m\n\u001b[1;32m   1749\u001b[0m result \u001b[38;5;241m=\u001b[39m \u001b[38;5;28;01mNone\u001b[39;00m\n\u001b[1;32m   1750\u001b[0m called_always_called_hooks \u001b[38;5;241m=\u001b[39m \u001b[38;5;28mset\u001b[39m()\n",
      "Cell \u001b[0;32mIn[23], line 11\u001b[0m, in \u001b[0;36mConvNet.forward\u001b[0;34m(self, x)\u001b[0m\n\u001b[1;32m     10\u001b[0m \u001b[38;5;28;01mdef\u001b[39;00m \u001b[38;5;21mforward\u001b[39m(\u001b[38;5;28mself\u001b[39m, x):\n\u001b[0;32m---> 11\u001b[0m     x \u001b[38;5;241m=\u001b[39m \u001b[38;5;28mself\u001b[39m\u001b[38;5;241m.\u001b[39mpool(\u001b[43mtorch\u001b[49m\u001b[38;5;241;43m.\u001b[39;49m\u001b[43mrelu\u001b[49m\u001b[43m(\u001b[49m\u001b[38;5;28;43mself\u001b[39;49m\u001b[38;5;241;43m.\u001b[39;49m\u001b[43mconv1\u001b[49m\u001b[43m(\u001b[49m\u001b[43mx\u001b[49m\u001b[43m)\u001b[49m\u001b[43m)\u001b[49m)\n\u001b[1;32m     12\u001b[0m     x \u001b[38;5;241m=\u001b[39m \u001b[38;5;28mself\u001b[39m\u001b[38;5;241m.\u001b[39mpool(torch\u001b[38;5;241m.\u001b[39mrelu(\u001b[38;5;28mself\u001b[39m\u001b[38;5;241m.\u001b[39mconv2(x)))\n\u001b[1;32m     13\u001b[0m     x \u001b[38;5;241m=\u001b[39m x\u001b[38;5;241m.\u001b[39mview(\u001b[38;5;241m-\u001b[39m\u001b[38;5;241m1\u001b[39m, \u001b[38;5;241m64\u001b[39m \u001b[38;5;241m*\u001b[39m \u001b[38;5;241m7\u001b[39m \u001b[38;5;241m*\u001b[39m \u001b[38;5;241m7\u001b[39m)  \u001b[38;5;66;03m# Flatten the tensor\u001b[39;00m\n",
      "\u001b[0;31mKeyboardInterrupt\u001b[0m: "
     ]
    }
   ],
   "source": [
    "class ConvNet(nn.Module):\n",
    "    def __init__(self):\n",
    "        super(ConvNet, self).__init__()\n",
    "        self.conv1 = nn.Conv2d(1, 32, kernel_size=3, stride=1, padding=1)\n",
    "        self.conv2 = nn.Conv2d(32, 64, kernel_size=3, stride=1, padding=1)\n",
    "        self.pool = nn.MaxPool2d(kernel_size=2, stride=2, padding=0)\n",
    "        self.fc1 = nn.Linear(64 * 7 * 7, 128)\n",
    "        self.fc2 = nn.Linear(128, 10)\n",
    "\n",
    "    def forward(self, x):\n",
    "        x = self.pool(torch.relu(self.conv1(x)))\n",
    "        x = self.pool(torch.relu(self.conv2(x)))\n",
    "        x = x.view(-1, 64 * 7 * 7)  # Flatten the tensor\n",
    "        x = torch.relu(self.fc1(x))\n",
    "        x = self.fc2(x)\n",
    "        return x\n",
    "\n",
    "# Create the model, loss function, and optimizer\n",
    "model = ConvNet()\n",
    "criterion = nn.CrossEntropyLoss()\n",
    "optimizer = optim.SGD(model.parameters(), lr=0.01, weight_decay=2e-4) \n",
    "num_epochs = 60\n",
    "\n",
    "train_and_validate(model=model, criterion=criterion, optimizer=optimizer, num_epochs=num_epochs)"
   ]
  }
 ],
 "metadata": {
  "kernelspec": {
   "display_name": "lab1",
   "language": "python",
   "name": "python3"
  },
  "language_info": {
   "codemirror_mode": {
    "name": "ipython",
    "version": 3
   },
   "file_extension": ".py",
   "mimetype": "text/x-python",
   "name": "python",
   "nbconvert_exporter": "python",
   "pygments_lexer": "ipython3",
   "version": "3.12.7"
  }
 },
 "nbformat": 4,
 "nbformat_minor": 2
}
